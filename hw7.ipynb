{
 "cells": [
  {
   "cell_type": "code",
   "execution_count": 1,
   "id": "initial_id",
   "metadata": {
    "collapsed": true,
    "ExecuteTime": {
     "end_time": "2023-11-01T06:55:43.109033Z",
     "start_time": "2023-11-01T06:55:43.102426Z"
    }
   },
   "outputs": [
    {
     "name": "stdout",
     "output_type": "stream",
     "text": [
      "True\n"
     ]
    }
   ],
   "source": [
    "from prime_qg2218 import is_prime\n",
    "\n",
    "print(is_prime(5))"
   ]
  },
  {
   "cell_type": "code",
   "execution_count": 3,
   "outputs": [
    {
     "data": {
      "text/plain": "False"
     },
     "execution_count": 3,
     "metadata": {},
     "output_type": "execute_result"
    }
   ],
   "source": [
    "is_prime(4)"
   ],
   "metadata": {
    "collapsed": false,
    "ExecuteTime": {
     "end_time": "2023-11-01T06:55:54.960809Z",
     "start_time": "2023-11-01T06:55:54.954080Z"
    }
   },
   "id": "ad085750887f3939"
  },
  {
   "cell_type": "markdown",
   "source": [
    "Share the link to your TestPyPi package and the repo of your package.\n",
    "Directly install your package from TestPyPi using !pip ....\n",
    "Import your package.\n",
    "Execute the is_prime function with a sample input.\n",
    "Display the output of help(<yourpackage>) and help(<yourpackage>.is_prime)."
   ],
   "metadata": {
    "collapsed": false
   },
   "id": "415fd65b4855e550"
  },
  {
   "cell_type": "code",
   "execution_count": null,
   "outputs": [],
   "source": [],
   "metadata": {
    "collapsed": false
   },
   "id": "c4d552259040a53b"
  }
 ],
 "metadata": {
  "kernelspec": {
   "display_name": "Python 3",
   "language": "python",
   "name": "python3"
  },
  "language_info": {
   "codemirror_mode": {
    "name": "ipython",
    "version": 2
   },
   "file_extension": ".py",
   "mimetype": "text/x-python",
   "name": "python",
   "nbconvert_exporter": "python",
   "pygments_lexer": "ipython2",
   "version": "2.7.6"
  }
 },
 "nbformat": 4,
 "nbformat_minor": 5
}
